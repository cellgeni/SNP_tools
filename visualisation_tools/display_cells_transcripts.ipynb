{
 "cells": [
  {
   "cell_type": "code",
   "execution_count": 1,
   "id": "f29be692",
   "metadata": {},
   "outputs": [],
   "source": [
    "## use kernel \"napari_spatialdata\"\n",
    "# here we import all needed libraries\n",
    "import spatialdata as sd\n",
    "from napari_spatialdata import Interactive\n",
    "import pandas as pd\n",
    "from ome_zarr.io import parse_url\n",
    "from ome_zarr.reader import Node, Reader\n",
    "import numpy as np\n",
    "import tifffile as tif\n",
    "from tifffile import TiffFile"
   ]
  },
  {
   "cell_type": "code",
   "execution_count": 3,
   "id": "095a6670",
   "metadata": {},
   "outputs": [],
   "source": [
    "## declare paths\n",
    "path_to_decoded_csv = '/nfs/t233_imaging/NT_SNP/playground_Tong/Pool3iMGL_10rsID_multianchor/work/eb/aa1119a052897c486c1909c1324368/Pool3iMGL_10rsID_decoded_spots.csv'\n",
    "path_to_spatial_data = '/nfs/t233_imaging/NT_SNP/playground_Tong/Pool3iMGL_10rsID_multianchor/output/spatialdata/Pool3iMGL_10rsID.sdata/'"
   ]
  },
  {
   "cell_type": "markdown",
   "id": "b7c6017b",
   "metadata": {},
   "source": [
    "## 1. Load spatial data and display it"
   ]
  },
  {
   "cell_type": "code",
   "execution_count": 10,
   "id": "b1f0effd",
   "metadata": {},
   "outputs": [
    {
     "name": "stderr",
     "output_type": "stream",
     "text": [
      "\u001b[32m2024-10-02 16:46:40.896\u001b[0m | \u001b[1mINFO    \u001b[0m | \u001b[36mnapari_spatialdata._view\u001b[0m:\u001b[36m_on_layer_update\u001b[0m:\u001b[36m355\u001b[0m - \u001b[1mUpdating layer.\u001b[0m\n",
      "/opt/conda/envs/napari_spatialdata/lib/python3.9/site-packages/anndata/_core/aligned_df.py:68: ImplicitModificationWarning: Transforming to str index.\n",
      "  warnings.warn(\"Transforming to str index.\", ImplicitModificationWarning)\n",
      "\u001b[32m2024-10-02 16:46:41.426\u001b[0m | \u001b[1mINFO    \u001b[0m | \u001b[36mnapari_spatialdata._view\u001b[0m:\u001b[36m_on_layer_update\u001b[0m:\u001b[36m355\u001b[0m - \u001b[1mUpdating layer.\u001b[0m\n",
      "\u001b[32m2024-10-02 16:46:41.430\u001b[0m | \u001b[1mINFO    \u001b[0m | \u001b[36mnapari_spatialdata._view\u001b[0m:\u001b[36m_on_layer_update\u001b[0m:\u001b[36m355\u001b[0m - \u001b[1mUpdating layer.\u001b[0m\n",
      "\u001b[32m2024-10-02 16:46:41.431\u001b[0m | \u001b[1mINFO    \u001b[0m | \u001b[36mnapari_spatialdata._view\u001b[0m:\u001b[36m_on_layer_update\u001b[0m:\u001b[36m355\u001b[0m - \u001b[1mUpdating layer.\u001b[0m\n",
      "\u001b[32m2024-10-02 16:46:53.643\u001b[0m | \u001b[1mINFO    \u001b[0m | \u001b[36mnapari_spatialdata._view\u001b[0m:\u001b[36m_on_layer_update\u001b[0m:\u001b[36m355\u001b[0m - \u001b[1mUpdating layer.\u001b[0m\n",
      "\u001b[32m2024-10-02 16:46:53.648\u001b[0m | \u001b[1mINFO    \u001b[0m | \u001b[36mnapari_spatialdata._view\u001b[0m:\u001b[36m_on_layer_update\u001b[0m:\u001b[36m355\u001b[0m - \u001b[1mUpdating layer.\u001b[0m\n"
     ]
    }
   ],
   "source": [
    "sdata = sd.read_zarr(path_to_spatial_data)\n",
    "interactive = Interactive(sdata)\n",
    "viewer = interactive._viewer\n",
    "\n",
    "## when you open different layers change belnding to \"additive\" to see them all together overlayed"
   ]
  },
  {
   "cell_type": "markdown",
   "id": "6f606e87",
   "metadata": {},
   "source": [
    "## 2a. Prepare all layers of decoded spot types"
   ]
  },
  {
   "cell_type": "code",
   "execution_count": 11,
   "id": "c8c65f08",
   "metadata": {},
   "outputs": [
    {
     "data": {
      "text/html": [
       "<div>\n",
       "<style scoped>\n",
       "    .dataframe tbody tr th:only-of-type {\n",
       "        vertical-align: middle;\n",
       "    }\n",
       "\n",
       "    .dataframe tbody tr th {\n",
       "        vertical-align: top;\n",
       "    }\n",
       "\n",
       "    .dataframe thead th {\n",
       "        text-align: right;\n",
       "    }\n",
       "</style>\n",
       "<table border=\"1\" class=\"dataframe\">\n",
       "  <thead>\n",
       "    <tr style=\"text-align: right;\">\n",
       "      <th></th>\n",
       "      <th>Name</th>\n",
       "      <th>Code</th>\n",
       "      <th>Probability</th>\n",
       "      <th>y_int</th>\n",
       "      <th>x_int</th>\n",
       "    </tr>\n",
       "  </thead>\n",
       "  <tbody>\n",
       "    <tr>\n",
       "      <th>0</th>\n",
       "      <td>rs13296_G</td>\n",
       "      <td>GTGTTGTGTTTT</td>\n",
       "      <td>0.999989</td>\n",
       "      <td>1349</td>\n",
       "      <td>14</td>\n",
       "    </tr>\n",
       "    <tr>\n",
       "      <th>1</th>\n",
       "      <td>rs1054411_C</td>\n",
       "      <td>GGGGTTTTTTTT</td>\n",
       "      <td>0.999978</td>\n",
       "      <td>1538</td>\n",
       "      <td>116</td>\n",
       "    </tr>\n",
       "    <tr>\n",
       "      <th>2</th>\n",
       "      <td>rs1054411_C</td>\n",
       "      <td>GGGGTTTTTTTT</td>\n",
       "      <td>0.999959</td>\n",
       "      <td>1547</td>\n",
       "      <td>116</td>\n",
       "    </tr>\n",
       "    <tr>\n",
       "      <th>3</th>\n",
       "      <td>rs1054411_C</td>\n",
       "      <td>GGGGTTTTTTTT</td>\n",
       "      <td>0.999976</td>\n",
       "      <td>1915</td>\n",
       "      <td>219</td>\n",
       "    </tr>\n",
       "    <tr>\n",
       "      <th>4</th>\n",
       "      <td>rs14867_C</td>\n",
       "      <td>GTTGTTTTGTTG</td>\n",
       "      <td>0.994291</td>\n",
       "      <td>1955</td>\n",
       "      <td>189</td>\n",
       "    </tr>\n",
       "    <tr>\n",
       "      <th>...</th>\n",
       "      <td>...</td>\n",
       "      <td>...</td>\n",
       "      <td>...</td>\n",
       "      <td>...</td>\n",
       "      <td>...</td>\n",
       "    </tr>\n",
       "    <tr>\n",
       "      <th>1839250</th>\n",
       "      <td>background</td>\n",
       "      <td>0000</td>\n",
       "      <td>0.999760</td>\n",
       "      <td>20289</td>\n",
       "      <td>20264</td>\n",
       "    </tr>\n",
       "    <tr>\n",
       "      <th>1839251</th>\n",
       "      <td>background</td>\n",
       "      <td>0000</td>\n",
       "      <td>0.999760</td>\n",
       "      <td>20296</td>\n",
       "      <td>20212</td>\n",
       "    </tr>\n",
       "    <tr>\n",
       "      <th>1839252</th>\n",
       "      <td>background</td>\n",
       "      <td>0000</td>\n",
       "      <td>0.999760</td>\n",
       "      <td>20298</td>\n",
       "      <td>20264</td>\n",
       "    </tr>\n",
       "    <tr>\n",
       "      <th>1839253</th>\n",
       "      <td>background</td>\n",
       "      <td>0000</td>\n",
       "      <td>0.999760</td>\n",
       "      <td>20302</td>\n",
       "      <td>20271</td>\n",
       "    </tr>\n",
       "    <tr>\n",
       "      <th>1839254</th>\n",
       "      <td>background</td>\n",
       "      <td>0000</td>\n",
       "      <td>0.999760</td>\n",
       "      <td>20306</td>\n",
       "      <td>20210</td>\n",
       "    </tr>\n",
       "  </tbody>\n",
       "</table>\n",
       "<p>1839255 rows × 5 columns</p>\n",
       "</div>"
      ],
      "text/plain": [
       "                Name          Code  Probability  y_int  x_int\n",
       "0          rs13296_G  GTGTTGTGTTTT     0.999989   1349     14\n",
       "1        rs1054411_C  GGGGTTTTTTTT     0.999978   1538    116\n",
       "2        rs1054411_C  GGGGTTTTTTTT     0.999959   1547    116\n",
       "3        rs1054411_C  GGGGTTTTTTTT     0.999976   1915    219\n",
       "4          rs14867_C  GTTGTTTTGTTG     0.994291   1955    189\n",
       "...              ...           ...          ...    ...    ...\n",
       "1839250   background          0000     0.999760  20289  20264\n",
       "1839251   background          0000     0.999760  20296  20212\n",
       "1839252   background          0000     0.999760  20298  20264\n",
       "1839253   background          0000     0.999760  20302  20271\n",
       "1839254   background          0000     0.999760  20306  20210\n",
       "\n",
       "[1839255 rows x 5 columns]"
      ]
     },
     "execution_count": 11,
     "metadata": {},
     "output_type": "execute_result"
    },
    {
     "name": "stderr",
     "output_type": "stream",
     "text": [
      "\u001b[32m2024-10-02 16:52:04.448\u001b[0m | \u001b[1mINFO    \u001b[0m | \u001b[36mnapari_spatialdata._view\u001b[0m:\u001b[36m_on_layer_update\u001b[0m:\u001b[36m355\u001b[0m - \u001b[1mUpdating layer.\u001b[0m\n"
     ]
    }
   ],
   "source": [
    "decoded_peaks = pd.read_csv(path_to_decoded_csv, sep=\",\")\n",
    "decoded_group = decoded_peaks.groupby(\"Name\")\n",
    "decoded_peaks\n"
   ]
  },
  {
   "cell_type": "markdown",
   "id": "93889a1e",
   "metadata": {},
   "source": [
    "## 2b. Upload all layers of decoded spot types to napari"
   ]
  },
  {
   "cell_type": "code",
   "execution_count": 14,
   "id": "b821acaa",
   "metadata": {},
   "outputs": [
    {
     "name": "stderr",
     "output_type": "stream",
     "text": [
      "\u001b[32m2024-10-02 16:53:05.734\u001b[0m | \u001b[1mINFO    \u001b[0m | \u001b[36mnapari_spatialdata._view\u001b[0m:\u001b[36m_on_layer_update\u001b[0m:\u001b[36m355\u001b[0m - \u001b[1mUpdating layer.\u001b[0m\n",
      "\u001b[32m2024-10-02 16:53:05.870\u001b[0m | \u001b[1mINFO    \u001b[0m | \u001b[36mnapari_spatialdata._view\u001b[0m:\u001b[36m_on_layer_update\u001b[0m:\u001b[36m355\u001b[0m - \u001b[1mUpdating layer.\u001b[0m\n",
      "\u001b[32m2024-10-02 16:53:05.874\u001b[0m | \u001b[1mINFO    \u001b[0m | \u001b[36mnapari_spatialdata._view\u001b[0m:\u001b[36m_on_layer_update\u001b[0m:\u001b[36m355\u001b[0m - \u001b[1mUpdating layer.\u001b[0m\n",
      "\u001b[32m2024-10-02 16:53:06.069\u001b[0m | \u001b[1mINFO    \u001b[0m | \u001b[36mnapari_spatialdata._view\u001b[0m:\u001b[36m_on_layer_update\u001b[0m:\u001b[36m355\u001b[0m - \u001b[1mUpdating layer.\u001b[0m\n",
      "\u001b[32m2024-10-02 16:53:06.074\u001b[0m | \u001b[1mINFO    \u001b[0m | \u001b[36mnapari_spatialdata._view\u001b[0m:\u001b[36m_on_layer_update\u001b[0m:\u001b[36m355\u001b[0m - \u001b[1mUpdating layer.\u001b[0m\n",
      "\u001b[32m2024-10-02 16:53:06.240\u001b[0m | \u001b[1mINFO    \u001b[0m | \u001b[36mnapari_spatialdata._view\u001b[0m:\u001b[36m_on_layer_update\u001b[0m:\u001b[36m355\u001b[0m - \u001b[1mUpdating layer.\u001b[0m\n",
      "\u001b[32m2024-10-02 16:53:06.244\u001b[0m | \u001b[1mINFO    \u001b[0m | \u001b[36mnapari_spatialdata._view\u001b[0m:\u001b[36m_on_layer_update\u001b[0m:\u001b[36m355\u001b[0m - \u001b[1mUpdating layer.\u001b[0m\n",
      "\u001b[32m2024-10-02 16:53:09.865\u001b[0m | \u001b[1mINFO    \u001b[0m | \u001b[36mnapari_spatialdata._view\u001b[0m:\u001b[36m_on_layer_update\u001b[0m:\u001b[36m355\u001b[0m - \u001b[1mUpdating layer.\u001b[0m\n",
      "\u001b[32m2024-10-02 16:53:09.869\u001b[0m | \u001b[1mINFO    \u001b[0m | \u001b[36mnapari_spatialdata._view\u001b[0m:\u001b[36m_on_layer_update\u001b[0m:\u001b[36m355\u001b[0m - \u001b[1mUpdating layer.\u001b[0m\n",
      "\u001b[32m2024-10-02 16:53:10.254\u001b[0m | \u001b[1mINFO    \u001b[0m | \u001b[36mnapari_spatialdata._view\u001b[0m:\u001b[36m_on_layer_update\u001b[0m:\u001b[36m355\u001b[0m - \u001b[1mUpdating layer.\u001b[0m\n",
      "\u001b[32m2024-10-02 16:53:10.258\u001b[0m | \u001b[1mINFO    \u001b[0m | \u001b[36mnapari_spatialdata._view\u001b[0m:\u001b[36m_on_layer_update\u001b[0m:\u001b[36m355\u001b[0m - \u001b[1mUpdating layer.\u001b[0m\n",
      "\u001b[32m2024-10-02 16:53:10.446\u001b[0m | \u001b[1mINFO    \u001b[0m | \u001b[36mnapari_spatialdata._view\u001b[0m:\u001b[36m_on_layer_update\u001b[0m:\u001b[36m355\u001b[0m - \u001b[1mUpdating layer.\u001b[0m\n",
      "\u001b[32m2024-10-02 16:53:10.451\u001b[0m | \u001b[1mINFO    \u001b[0m | \u001b[36mnapari_spatialdata._view\u001b[0m:\u001b[36m_on_layer_update\u001b[0m:\u001b[36m355\u001b[0m - \u001b[1mUpdating layer.\u001b[0m\n",
      "\u001b[32m2024-10-02 16:53:11.536\u001b[0m | \u001b[1mINFO    \u001b[0m | \u001b[36mnapari_spatialdata._view\u001b[0m:\u001b[36m_on_layer_update\u001b[0m:\u001b[36m355\u001b[0m - \u001b[1mUpdating layer.\u001b[0m\n",
      "\u001b[32m2024-10-02 16:53:11.541\u001b[0m | \u001b[1mINFO    \u001b[0m | \u001b[36mnapari_spatialdata._view\u001b[0m:\u001b[36m_on_layer_update\u001b[0m:\u001b[36m355\u001b[0m - \u001b[1mUpdating layer.\u001b[0m\n",
      "\u001b[32m2024-10-02 16:53:14.858\u001b[0m | \u001b[1mINFO    \u001b[0m | \u001b[36mnapari_spatialdata._view\u001b[0m:\u001b[36m_on_layer_update\u001b[0m:\u001b[36m355\u001b[0m - \u001b[1mUpdating layer.\u001b[0m\n",
      "\u001b[32m2024-10-02 16:53:14.863\u001b[0m | \u001b[1mINFO    \u001b[0m | \u001b[36mnapari_spatialdata._view\u001b[0m:\u001b[36m_on_layer_update\u001b[0m:\u001b[36m355\u001b[0m - \u001b[1mUpdating layer.\u001b[0m\n",
      "\u001b[32m2024-10-02 16:53:25.008\u001b[0m | \u001b[1mINFO    \u001b[0m | \u001b[36mnapari_spatialdata._view\u001b[0m:\u001b[36m_on_layer_update\u001b[0m:\u001b[36m355\u001b[0m - \u001b[1mUpdating layer.\u001b[0m\n",
      "\u001b[32m2024-10-02 16:53:25.013\u001b[0m | \u001b[1mINFO    \u001b[0m | \u001b[36mnapari_spatialdata._view\u001b[0m:\u001b[36m_on_layer_update\u001b[0m:\u001b[36m355\u001b[0m - \u001b[1mUpdating layer.\u001b[0m\n",
      "\u001b[32m2024-10-02 16:53:25.837\u001b[0m | \u001b[1mINFO    \u001b[0m | \u001b[36mnapari_spatialdata._view\u001b[0m:\u001b[36m_on_layer_update\u001b[0m:\u001b[36m355\u001b[0m - \u001b[1mUpdating layer.\u001b[0m\n",
      "\u001b[32m2024-10-02 16:53:25.842\u001b[0m | \u001b[1mINFO    \u001b[0m | \u001b[36mnapari_spatialdata._view\u001b[0m:\u001b[36m_on_layer_update\u001b[0m:\u001b[36m355\u001b[0m - \u001b[1mUpdating layer.\u001b[0m\n",
      "\u001b[32m2024-10-02 16:53:26.139\u001b[0m | \u001b[1mINFO    \u001b[0m | \u001b[36mnapari_spatialdata._view\u001b[0m:\u001b[36m_on_layer_update\u001b[0m:\u001b[36m355\u001b[0m - \u001b[1mUpdating layer.\u001b[0m\n",
      "\u001b[32m2024-10-02 16:53:26.143\u001b[0m | \u001b[1mINFO    \u001b[0m | \u001b[36mnapari_spatialdata._view\u001b[0m:\u001b[36m_on_layer_update\u001b[0m:\u001b[36m355\u001b[0m - \u001b[1mUpdating layer.\u001b[0m\n",
      "\u001b[32m2024-10-02 16:53:31.953\u001b[0m | \u001b[1mINFO    \u001b[0m | \u001b[36mnapari_spatialdata._view\u001b[0m:\u001b[36m_on_layer_update\u001b[0m:\u001b[36m355\u001b[0m - \u001b[1mUpdating layer.\u001b[0m\n",
      "\u001b[32m2024-10-02 16:53:31.958\u001b[0m | \u001b[1mINFO    \u001b[0m | \u001b[36mnapari_spatialdata._view\u001b[0m:\u001b[36m_on_layer_update\u001b[0m:\u001b[36m355\u001b[0m - \u001b[1mUpdating layer.\u001b[0m\n",
      "\u001b[32m2024-10-02 16:53:32.234\u001b[0m | \u001b[1mINFO    \u001b[0m | \u001b[36mnapari_spatialdata._view\u001b[0m:\u001b[36m_on_layer_update\u001b[0m:\u001b[36m355\u001b[0m - \u001b[1mUpdating layer.\u001b[0m\n",
      "\u001b[32m2024-10-02 16:53:32.238\u001b[0m | \u001b[1mINFO    \u001b[0m | \u001b[36mnapari_spatialdata._view\u001b[0m:\u001b[36m_on_layer_update\u001b[0m:\u001b[36m355\u001b[0m - \u001b[1mUpdating layer.\u001b[0m\n",
      "\u001b[32m2024-10-02 16:53:32.528\u001b[0m | \u001b[1mINFO    \u001b[0m | \u001b[36mnapari_spatialdata._view\u001b[0m:\u001b[36m_on_layer_update\u001b[0m:\u001b[36m355\u001b[0m - \u001b[1mUpdating layer.\u001b[0m\n",
      "\u001b[32m2024-10-02 16:53:32.533\u001b[0m | \u001b[1mINFO    \u001b[0m | \u001b[36mnapari_spatialdata._view\u001b[0m:\u001b[36m_on_layer_update\u001b[0m:\u001b[36m355\u001b[0m - \u001b[1mUpdating layer.\u001b[0m\n",
      "\u001b[32m2024-10-02 16:53:32.733\u001b[0m | \u001b[1mINFO    \u001b[0m | \u001b[36mnapari_spatialdata._view\u001b[0m:\u001b[36m_on_layer_update\u001b[0m:\u001b[36m355\u001b[0m - \u001b[1mUpdating layer.\u001b[0m\n",
      "\u001b[32m2024-10-02 16:53:32.737\u001b[0m | \u001b[1mINFO    \u001b[0m | \u001b[36mnapari_spatialdata._view\u001b[0m:\u001b[36m_on_layer_update\u001b[0m:\u001b[36m355\u001b[0m - \u001b[1mUpdating layer.\u001b[0m\n",
      "\u001b[32m2024-10-02 16:53:33.470\u001b[0m | \u001b[1mINFO    \u001b[0m | \u001b[36mnapari_spatialdata._view\u001b[0m:\u001b[36m_on_layer_update\u001b[0m:\u001b[36m355\u001b[0m - \u001b[1mUpdating layer.\u001b[0m\n",
      "\u001b[32m2024-10-02 16:53:33.475\u001b[0m | \u001b[1mINFO    \u001b[0m | \u001b[36mnapari_spatialdata._view\u001b[0m:\u001b[36m_on_layer_update\u001b[0m:\u001b[36m355\u001b[0m - \u001b[1mUpdating layer.\u001b[0m\n",
      "\u001b[32m2024-10-02 16:53:33.624\u001b[0m | \u001b[1mINFO    \u001b[0m | \u001b[36mnapari_spatialdata._view\u001b[0m:\u001b[36m_on_layer_update\u001b[0m:\u001b[36m355\u001b[0m - \u001b[1mUpdating layer.\u001b[0m\n",
      "\u001b[32m2024-10-02 16:53:33.628\u001b[0m | \u001b[1mINFO    \u001b[0m | \u001b[36mnapari_spatialdata._view\u001b[0m:\u001b[36m_on_layer_update\u001b[0m:\u001b[36m355\u001b[0m - \u001b[1mUpdating layer.\u001b[0m\n",
      "\u001b[32m2024-10-02 16:53:34.177\u001b[0m | \u001b[1mINFO    \u001b[0m | \u001b[36mnapari_spatialdata._view\u001b[0m:\u001b[36m_on_layer_update\u001b[0m:\u001b[36m355\u001b[0m - \u001b[1mUpdating layer.\u001b[0m\n",
      "\u001b[32m2024-10-02 16:53:34.182\u001b[0m | \u001b[1mINFO    \u001b[0m | \u001b[36mnapari_spatialdata._view\u001b[0m:\u001b[36m_on_layer_update\u001b[0m:\u001b[36m355\u001b[0m - \u001b[1mUpdating layer.\u001b[0m\n",
      "\u001b[32m2024-10-02 16:53:35.139\u001b[0m | \u001b[1mINFO    \u001b[0m | \u001b[36mnapari_spatialdata._view\u001b[0m:\u001b[36m_on_layer_update\u001b[0m:\u001b[36m355\u001b[0m - \u001b[1mUpdating layer.\u001b[0m\n",
      "\u001b[32m2024-10-02 16:53:35.144\u001b[0m | \u001b[1mINFO    \u001b[0m | \u001b[36mnapari_spatialdata._view\u001b[0m:\u001b[36m_on_layer_update\u001b[0m:\u001b[36m355\u001b[0m - \u001b[1mUpdating layer.\u001b[0m\n",
      "\u001b[32m2024-10-02 16:53:35.298\u001b[0m | \u001b[1mINFO    \u001b[0m | \u001b[36mnapari_spatialdata._view\u001b[0m:\u001b[36m_on_layer_update\u001b[0m:\u001b[36m355\u001b[0m - \u001b[1mUpdating layer.\u001b[0m\n",
      "\u001b[32m2024-10-02 16:53:35.302\u001b[0m | \u001b[1mINFO    \u001b[0m | \u001b[36mnapari_spatialdata._view\u001b[0m:\u001b[36m_on_layer_update\u001b[0m:\u001b[36m355\u001b[0m - \u001b[1mUpdating layer.\u001b[0m\n",
      "\u001b[32m2024-10-02 16:53:35.892\u001b[0m | \u001b[1mINFO    \u001b[0m | \u001b[36mnapari_spatialdata._view\u001b[0m:\u001b[36m_on_layer_update\u001b[0m:\u001b[36m355\u001b[0m - \u001b[1mUpdating layer.\u001b[0m\n",
      "\u001b[32m2024-10-02 16:53:35.897\u001b[0m | \u001b[1mINFO    \u001b[0m | \u001b[36mnapari_spatialdata._view\u001b[0m:\u001b[36m_on_layer_update\u001b[0m:\u001b[36m355\u001b[0m - \u001b[1mUpdating layer.\u001b[0m\n"
     ]
    }
   ],
   "source": [
    "spot_layers = {}\n",
    "target_genes = decoded_peaks.Name.unique()\n",
    "for n, grp in decoded_group:\n",
    "    if n in target_genes:\n",
    "        random_color = np.array([np.random.rand(),np.random.rand(),np.random.rand()])\n",
    "        spot_layers[n] = viewer.add_points(grp[[\"y_int\", \"x_int\"]].values,\n",
    "                                           name=n, visible=False,\n",
    "                                           size=5,  ## SIZE OF THE SPOT - FEEL FREE TO CHANGE\n",
    "                                           face_color=random_color,\n",
    "                                           edge_color=random_color,\n",
    "                                           scale=[1, 1],\n",
    "                                           blending=\"additive\"\n",
    "                                          )"
   ]
  },
  {
   "cell_type": "markdown",
   "id": "437b38b6",
   "metadata": {},
   "source": [
    "## 3. Highlight the cell with a specific id"
   ]
  },
  {
   "cell_type": "code",
   "execution_count": 17,
   "id": "2dec19e3",
   "metadata": {},
   "outputs": [
    {
     "name": "stderr",
     "output_type": "stream",
     "text": [
      "/opt/conda/envs/napari_spatialdata/lib/python3.9/site-packages/napari/_vispy/layers/image.py:251: UserWarning: data shape (20396, 20396) exceeds GL_MAX_TEXTURE_SIZE 16384 in at least one axis and will be downsampled. Rendering is currently in 2D mode.\n",
      "  warnings.warn(\n",
      "/opt/conda/envs/napari_spatialdata/lib/python3.9/site-packages/napari/_vispy/layers/image.py:251: UserWarning: data shape (20396, 20396) exceeds GL_MAX_TEXTURE_SIZE 16384 in at least one axis and will be downsampled. Rendering is currently in 2D mode.\n",
      "  warnings.warn(\n",
      "\u001b[32m2024-10-02 16:55:36.895\u001b[0m | \u001b[1mINFO    \u001b[0m | \u001b[36mnapari_spatialdata._view\u001b[0m:\u001b[36m_on_layer_update\u001b[0m:\u001b[36m355\u001b[0m - \u001b[1mUpdating layer.\u001b[0m\n",
      "\u001b[32m2024-10-02 16:55:36.900\u001b[0m | \u001b[1mINFO    \u001b[0m | \u001b[36mnapari_spatialdata._view\u001b[0m:\u001b[36m_on_layer_update\u001b[0m:\u001b[36m355\u001b[0m - \u001b[1mUpdating layer.\u001b[0m\n"
     ]
    },
    {
     "data": {
      "text/plain": [
       "<Image layer 'Cell 666' at 0x7fd4a7e04eb0>"
      ]
     },
     "execution_count": 17,
     "metadata": {},
     "output_type": "execute_result"
    },
    {
     "name": "stderr",
     "output_type": "stream",
     "text": [
      "/opt/conda/envs/napari_spatialdata/lib/python3.9/site-packages/napari/_vispy/layers/image.py:251: UserWarning: data shape (20396, 20396) exceeds GL_MAX_TEXTURE_SIZE 16384 in at least one axis and will be downsampled. Rendering is currently in 2D mode.\n",
      "  warnings.warn(\n",
      "/opt/conda/envs/napari_spatialdata/lib/python3.9/site-packages/napari/_vispy/layers/image.py:251: UserWarning: data shape (20396, 20396) exceeds GL_MAX_TEXTURE_SIZE 16384 in at least one axis and will be downsampled. Rendering is currently in 2D mode.\n",
      "  warnings.warn(\n"
     ]
    }
   ],
   "source": [
    "cell_id = 666 \n",
    "\n",
    "label_image = sdata.labels['cell_labels']['scale0'].image\n",
    "label_one_cell = np.zeros_like(label_image); label_one_cell = label_one_cell.astype('uint8')\n",
    "label_one_cell[label_image==cell_id] = 255\n",
    "viewer.add_image(label_one_cell, name = str('Cell ' + str(cell_id)), blending = 'additive')"
   ]
  },
  {
   "cell_type": "code",
   "execution_count": null,
   "id": "c688421b",
   "metadata": {},
   "outputs": [],
   "source": []
  }
 ],
 "metadata": {
  "kernelspec": {
   "display_name": "napari_spatialdata2",
   "language": "python",
   "name": "napari_spatialdata2"
  },
  "language_info": {
   "codemirror_mode": {
    "name": "ipython",
    "version": 3
   },
   "file_extension": ".py",
   "mimetype": "text/x-python",
   "name": "python",
   "nbconvert_exporter": "python",
   "pygments_lexer": "ipython3",
   "version": "3.9.2"
  }
 },
 "nbformat": 4,
 "nbformat_minor": 5
}
